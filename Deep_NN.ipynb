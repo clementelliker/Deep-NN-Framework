{
 "cells": [
  {
   "cell_type": "markdown",
   "metadata": {},
   "source": [
    "Students:\n",
    "\n",
    "- ...\n",
    "- ...\n",
    "- ...\n",
    "\n",
    "# Deep Learning - Lab Exercise 2\n",
    "\n",
    "**WARNING:** you must have finished the first exercise before this one as you will re-use parts of the code.\n",
    "\n",
    "In the first lab exercise, we built a simple linear classifier.\n",
    "Although it can give reasonable results on the MNIST dataset (~92.5% of accuracy), deeper neural networks can achieve more the 99% accuracy.\n",
    "However, it can quickly become really impracical to explicitly code forward and backward passes.\n",
    "Hence, it is useful to rely on an auto-diff library where we specify the forward pass once, and the backward pass is automatically deduced from the computational graph structure.\n",
    "\n",
    "In this lab exercise, we will build a small and simple auto-diff lib that mimics the autograd mechanism from Pytorch (of course, we will simplify a lot!)\n"
   ]
  },
  {
   "cell_type": "code",
   "execution_count": null,
   "metadata": {},
   "outputs": [],
   "source": [
    "# import libs that we will use\n",
    "import os\n",
    "import numpy as np\n",
    "import matplotlib.pyplot as plt\n",
    "import math\n",
    "\n",
    "# To load the data we will use the script of Gaetan Marceau Caron\n",
    "# You can download it from the course webiste and move it to the same directory that contains this ipynb file\n",
    "import dataset_loader\n",
    "\n",
    "%matplotlib inline"
   ]
  },
  {
   "cell_type": "markdown",
   "metadata": {},
   "source": [
    "# Data"
   ]
  },
  {
   "cell_type": "code",
   "execution_count": null,
   "metadata": {},
   "outputs": [],
   "source": [
    "# Download mnist dataset \n",
    "if(\"mnist.pkl.gz\" not in os.listdir(\".\")):\n",
    "    pass\n",
    "    # this link doesn't work any more,\n",
    "    # seach on google for the file \"mnist.pkl.gz\"\n",
    "    # and download it\n",
    "    #!wget http://deeplearning.net/data/mnist/mnist.pkl.gz\n",
    "\n",
    "# if you have it somewhere else, you can comment the lines above\n",
    "# and overwrite the path below\n",
    "mnist_path = \"./mnist.pkl.gz\""
   ]
  },
  {
   "cell_type": "code",
   "execution_count": null,
   "metadata": {},
   "outputs": [],
   "source": [
    "# load the 3 splits\n",
    "train_data, dev_data, test_data = dataset_loader.load_mnist(mnist_path)"
   ]
  },
  {
   "cell_type": "code",
   "execution_count": null,
   "metadata": {},
   "outputs": [],
   "source": [
    "train_data[0].shape"
   ]
  },
  {
   "cell_type": "code",
   "execution_count": null,
   "metadata": {},
   "outputs": [],
   "source": [
    "index = 900\n",
    "label = train_data[1][index]\n",
    "picture = train_data[0][index]\n",
    "\n",
    "print(\"label: %i\" % label)\n",
    "plt.imshow(picture.reshape(28,28), cmap='Greys')"
   ]
  },
  {
   "cell_type": "markdown",
   "metadata": {},
   "source": [
    "# Computation nodes\n",
    "\n",
    "Instead of directly manipulating numpy arrays, we will manipulate abstraction that contains:\n",
    "- a value (i.e. a numpy array)\n",
    "- a bool indicating if we wish to compute the gradient with respect to the value\n",
    "- the gradient with respect to the value\n",
    "- the operation to call during backpropagation\n",
    "\n",
    "There will be two kind of nodes:\n",
    "- Tensor: a generic computation node\n",
    "- Parameter: a computation node that is used to store parameters of the network. Parameters are always leaf nodes, i.e. they cannot be build from other computation nodes.\n",
    "\n",
    "Our implementation of the backward pass will be really simple and incorrect in the general case (i.e. won't work with computation graph with loops).\n",
    "We will just apply the derivative function for a given tensor and then call the ones of its antecedents, recursively.\n",
    "This simple algorithm is good enough for this exercise.\n",
    "\n",
    "Note that a real implementation of backprop will store temporary values during forward that can be used during backward to improve computation speed. We do not do that here."
   ]
  },
  {
   "cell_type": "code",
   "execution_count": null,
   "metadata": {},
   "outputs": [],
   "source": [
    "class Tensor:\n",
    "    def __init__(self, data, require_grad=False):\n",
    "        # test type of data: should be np array\n",
    "        if isinstance(data, float):\n",
    "            data = np.array([data,])\n",
    "        if type(data) != np.ndarray:\n",
    "            raise RuntimeError(\"Input should be a numpy array\")\n",
    "\n",
    "        # store data for this tensor\n",
    "        self.data = data\n",
    "        self.require_grad = require_grad\n",
    "        \n",
    "        # this values should be set to enable autograd!\n",
    "        self.gradient = None\n",
    "        self.d = None\n",
    "        self.backptr = None\n",
    "        \n",
    "    def zero_grad(self):\n",
    "        \"\"\"\n",
    "        Set the gradient of thie tensor to 0\n",
    "        \"\"\"\n",
    "        if self.require_grad:\n",
    "            self.gradient = np.zeros_like(self.data)\n",
    "            \n",
    "    def accumulate_gradient(self, gradient):\n",
    "        \"\"\"\n",
    "        Accumulte gradient for this tensor\n",
    "        \"\"\"\n",
    "        if gradient.shape != self.data.shape:\n",
    "            print(f\"gradient.shape:{gradient.shape}, self.data.shape:{self.data.shape}\")\n",
    "            raise RuntimeError(\"Invalid gradient dimension\")\n",
    "\n",
    "        if self.gradient is None:\n",
    "            self.gradient = np.copy(gradient)\n",
    "        else:\n",
    "            self.gradient += gradient\n",
    "            \n",
    "    def backward(self, g=None):\n",
    "        \"\"\"\n",
    "        The backward pass!\n",
    "        If g != None, then g is the gradient for the current node.\n",
    "        i.e. g will be != None only for the loss output.\n",
    "        \n",
    "        You should call the function stored in self.d with correct arguments,\n",
    "        and then recursively call the backward methods of tensors in the backptr list if:\n",
    "        1. they require a gradient\n",
    "        2. they are of type Tensor: check with isinstance(o, Tensor)\n",
    "        \"\"\"\n",
    "        \n",
    "        if not self.require_grad:  # stop right now if this node does not require a gradient\n",
    "            return\n",
    "        if g is not None:\n",
    "            if isinstance(g, float):\n",
    "                g = np.array([g])\n",
    "            if type(g) != np.ndarray:\n",
    "                raise RuntimeError(\"Gradient should be a numpy array\")\n",
    "            if g.shape != self.data.shape:\n",
    "                print(f\"g.shape:{g.shape}, self.data.shape:{self.data.shape}\")\n",
    "                raise RuntimeError(\"Gradient of different size than the value!\")\n",
    "                \n",
    "            self.gradient = g\n",
    "        \n",
    "        self.d(self.backptr,self.gradient) #calculates the gradient of the Tensors in backptr with respect to the derivative d\n",
    "        for i in self.backptr: #iterates through backptr\n",
    "            #print(f\"shape of new backptr item: {i.data.shape}\")\n",
    "            if i.require_grad and not isinstance(i, Parameter) and i.backptr is not None: #checking if the Tensors requires grad, in not a Parameter and if its backptr is not None (to avoid calling backward on the backptr of the input Tensor)\n",
    "                i.backward(g = i.gradient) #calls backward recursively on i\n",
    "        \n",
    "        \n",
    "        \n",
    "    \n",
    "    \n",
    "class Parameter(Tensor):\n",
    "    \"\"\"\n",
    "    This class will be used to store parameters of the network only!\n",
    "    \"\"\"\n",
    "    def __init__(self, data, name=\"unamed\"):\n",
    "        super().__init__(data, require_grad=True)\n",
    "        self.name = name\n",
    "        \n",
    "    def backward(self):\n",
    "        raise RuntimeError(\"You cannot backprop from a Parameter node\")"
   ]
  },
  {
   "cell_type": "markdown",
   "metadata": {},
   "source": [
    "# Functions\n",
    "\n",
    "Functions manipulate tensors and build the required information for autograd.\n",
    "A function returns a Tensor that should have require_grad = True if at least of the arguments require a gradient."
   ]
  },
  {
   "cell_type": "code",
   "execution_count": null,
   "metadata": {},
   "outputs": [],
   "source": [
    "def any_require_grad(l):\n",
    "    \"\"\"\n",
    "    Input:\n",
    "    - l: an iterable (e.g. a list)\n",
    "    Ouput:\n",
    "    - True if any tensor in the input requires a gradient\n",
    "    \"\"\"\n",
    "    return any(t.require_grad for t in l)"
   ]
  },
  {
   "cell_type": "code",
   "execution_count": null,
   "metadata": {},
   "outputs": [],
   "source": [
    "# Here is an exemple with the ReLU\n",
    "def relu(x):\n",
    "    v = np.maximum(0, x.data)\n",
    "    \n",
    "    output = Tensor(v, require_grad=x.require_grad)\n",
    "    output.d = backward_relu\n",
    "    output.backptr = [x]\n",
    "    \n",
    "    return output\n",
    "\n",
    "def backward_relu(backptr, g):\n",
    "    x, = backptr\n",
    "    \n",
    "    # the gradient is accumulated in the arguments only if required\n",
    "    if x.require_grad:\n",
    "        x.accumulate_gradient(g * (x.data > 0))"
   ]
  },
  {
   "cell_type": "code",
   "execution_count": null,
   "metadata": {},
   "outputs": [],
   "source": [
    "def tanh(x):\n",
    "    v = (1 - np.exp(-2*x.data))/(1 + np.exp(-2*x.data))\n",
    "    \n",
    "    output = Tensor(v, require_grad=x.require_grad)\n",
    "    output.d = backward_tanh\n",
    "    output.backptr = [x]\n",
    "    \n",
    "    return output\n",
    "    \n",
    "\n",
    "def backward_tanh(backptr, g):\n",
    "    x, = backptr\n",
    "    \n",
    "    if x.require_grad:\n",
    "        x.accumulate_gradient(g * (1 - ((1 - np.exp(-2*x.data))/(1 + np.exp(-2*x.data)))**2))"
   ]
  },
  {
   "cell_type": "markdown",
   "metadata": {},
   "source": [
    "Next, we implement the affine transform operation.\n",
    "You can reuse the code from the first lab exercise, with one major difference: you have to compute the gradient with respect to x too!"
   ]
  },
  {
   "cell_type": "code",
   "execution_count": null,
   "metadata": {},
   "outputs": [],
   "source": [
    "def affine_transform(W, b, x):\n",
    "    v = W.data@x.data + b.data\n",
    "    \n",
    "    output = Tensor(v, require_grad=x.require_grad)\n",
    "    output.d = backward_affine_transform\n",
    "    output.backptr = [W, b, x]\n",
    "    \n",
    "    return output\n",
    "\n",
    "def backward_affine_transform(backptr, g):\n",
    "    W, b, x = backptr\n",
    "    # the gradient is accumulated in the arguments only if required\n",
    "    if W.require_grad:\n",
    "        W.accumulate_gradient(((np.ones(W.data.shape)*x.data).T*g).T) #derivative with respect to W\n",
    "    if b.require_grad:\n",
    "        b.accumulate_gradient(g*np.ones(b.data.shape[0])) #derivative with respect to b\n",
    "    if isinstance(x, Tensor) and x.require_grad:\n",
    "        # (10, 100) (10,) (100,) (10,)\n",
    "        #print(W.data.shape, b.data.shape, x.data.shape, g.shape)\n",
    "        x.accumulate_gradient(g@W.data) #derivative with respect to x"
   ]
  },
  {
   "cell_type": "code",
   "execution_count": null,
   "metadata": {},
   "outputs": [],
   "source": [
    "# we use an underscore because this function does not manipulate tensors:\n",
    "# it is exactly the same as in the previous exercise\n",
    "def _softmax(x):\n",
    "    y = np.exp(x - np.max(x))\n",
    "    return y/np.sum(y,axis=0)\n",
    "    \n",
    "\n",
    "def nll(x, gold):\n",
    "    v = -x.data[gold.data] + np.max(x.data) + np.log(np.sum(np.exp(x.data - np.max(x.data))))\n",
    "    \n",
    "    output = Tensor(v, require_grad=x.require_grad)\n",
    "    output.d = backward_nll\n",
    "    output.backptr = [x, gold] #gold is stored in backptr because it is needed when we call backward_nll\n",
    "    \n",
    "    return output\n",
    "    \n",
    "\n",
    "def backward_nll(backptr, g):\n",
    "    x, gold = backptr\n",
    "    \n",
    "    if x.require_grad:\n",
    "        g_x = _softmax(x.data)\n",
    "        g_x[gold.data] -= 1\n",
    "        #print(f\"g_x{g_x}\")\n",
    "        x.accumulate_gradient(g_x)"
   ]
  },
  {
   "cell_type": "markdown",
   "metadata": {},
   "source": [
    "# Module\n",
    "\n",
    "Neural networks or parts of neural networks will be stored in Modules.\n",
    "They implement method to retrieve all parameters of the network and subnetwork."
   ]
  },
  {
   "cell_type": "code",
   "execution_count": null,
   "metadata": {},
   "outputs": [],
   "source": [
    "class Module:\n",
    "    def __init__(self):\n",
    "        raise NotImplemented(\"\")\n",
    "        \n",
    "    def parameters(self):\n",
    "        ret = []\n",
    "        for name in dir(self):\n",
    "            o = self.__getattribute__(name)\n",
    "\n",
    "            if type(o) is Parameter:\n",
    "                ret.append(o)\n",
    "            if isinstance(o, Module) or isinstance(o, ModuleList):\n",
    "                ret.extend(o.parameters())\n",
    "        return ret\n",
    "\n",
    "# if you want to store a list of Parameters or Module,\n",
    "# you must store them in a ModuleList instead of a python list,\n",
    "# in order to collect the parameters correctly\n",
    "class ModuleList(list):\n",
    "    def parameters(self):\n",
    "        ret = []\n",
    "        for m in self:\n",
    "            if type(m) is Parameter:\n",
    "                ret.append(m)\n",
    "            elif isinstance(m, Module) or isinstance(m, ModuleList):\n",
    "                ret.extend(m.parameters())\n",
    "        return ret"
   ]
  },
  {
   "cell_type": "markdown",
   "metadata": {},
   "source": [
    "# Initialization and optimization"
   ]
  },
  {
   "cell_type": "code",
   "execution_count": null,
   "metadata": {},
   "outputs": [],
   "source": [
    "def zero_init(b):\n",
    "    b[:] = 0.\n",
    "\n",
    "def glorot_init(W):\n",
    "    W[:] = np.random.uniform(-np.sqrt(6)/np.sqrt(W.shape[0] + W.shape[1]), np.sqrt(6)/np.sqrt(W.shape[0] + W.shape[1]), W.shape)\n",
    "    \n",
    "# Look at slides for the formula!\n",
    "def kaiming_init(W):\n",
    "    W[:] = np.random.uniform(-np.sqrt(6)/np.sqrt(W.shape[1]), np.sqrt(6)/np.sqrt(W.shape[1]), W.shape)"
   ]
  },
  {
   "cell_type": "code",
   "execution_count": null,
   "metadata": {},
   "outputs": [],
   "source": [
    "# simple gradient descent optimizer\n",
    "class SGD:\n",
    "    def __init__(self, params, lr=0.1):\n",
    "        self.params = params\n",
    "        self.lr = lr\n",
    "        \n",
    "    def step(self):\n",
    "        for p in self.params:\n",
    "            p.data[:] = p.data - self.lr * p.gradient\n",
    "        \n",
    "    def zero_grad(self):\n",
    "        for p in self.params:\n",
    "            p.zero_grad()"
   ]
  },
  {
   "cell_type": "code",
   "execution_count": null,
   "metadata": {},
   "outputs": [],
   "source": [
    "# simple gradient descent optimizer\n",
    "class MomentumSGD:\n",
    "    def __init__(self, params, lr=0.1, mu= 0.9):\n",
    "        self.params = params\n",
    "        self.lr = lr\n",
    "        self.velocity = []\n",
    "        self.mu = mu\n",
    "        \n",
    "    def reset_velocity(self):\n",
    "        self.velocity = []\n",
    "        for p in self.params:\n",
    "            self.velocity.append(np.zeros_like(p.data))\n",
    "        \n",
    "    def step(self):\n",
    "        for i,p in enumerate(self.params):\n",
    "            self.velocity[i] = self.mu*self.velocity[i] + self.lr*p.gradient\n",
    "            p.data[:] = p.data - self.velocity[i]\n",
    "        \n",
    "    def zero_grad(self):\n",
    "        for p in self.params:\n",
    "            p.zero_grad()"
   ]
  },
  {
   "cell_type": "markdown",
   "metadata": {},
   "source": [
    "# Networks and training loop\n",
    "\n",
    "We first create a simple linear classifier, similar to the first lab exercise."
   ]
  },
  {
   "cell_type": "code",
   "execution_count": null,
   "metadata": {},
   "outputs": [],
   "source": [
    "class LinearNetwork(Module):\n",
    "    def __init__(self, dim_input, dim_output):\n",
    "        # build the parameters\n",
    "        self.W = Parameter(np.ndarray((dim_output, dim_input)), name=\"W\") #W paramters of the single layer\n",
    "        self.b = Parameter(np.ndarray((dim_output,)), name=\"b\") #b parameters of the single layer\n",
    "        \n",
    "        self.init_parameters()\n",
    "        \n",
    "    def init_parameters(self):\n",
    "        # init parameters of the network (i.e W and b)\n",
    "        glorot_init(self.W.data)\n",
    "        zero_init(self.b.data)\n",
    "        \n",
    "    def forward(self, x):\n",
    "        return  affine_transform(self.W, self.b, x)"
   ]
  },
  {
   "cell_type": "markdown",
   "metadata": {},
   "source": [
    "We will train several neural networks.\n",
    "Therefore, we encapsulate the training loop in a function.\n",
    "\n",
    "**warning**: you have to call optimizer.zero_grad() before each backward pass to reinitialize the gradient of the parameters!"
   ]
  },
  {
   "cell_type": "code",
   "execution_count": null,
   "metadata": {},
   "outputs": [],
   "source": [
    "def training_loop(network, optimizer, train_data, dev_data,momentum, n_epochs=10):\n",
    "    #create the lists to stores the loss and accuracy of each epoch\n",
    "    list_loss_train = [] \n",
    "    list_loss_test = []\n",
    "    list_acc_train = []\n",
    "    list_acc_test = []\n",
    "    for ep in range(0,n_epochs): #iterate through the epochs\n",
    "        indexes = np.arange(train_data[0].shape[0])\n",
    "        np.random.shuffle(indexes) #shuffles the train dataset\n",
    "        if momentum:\n",
    "            optimizer.reset_velocity();\n",
    "        ep_loss_train = 0\n",
    "        ep_loss_test = 0\n",
    "        ep_acc_train = 0\n",
    "        ep_acc_test = 0\n",
    "        for i in range(train_data[0].shape[0]): #iterates through the dataset\n",
    "            optimizer.zero_grad() #sets the gradients to 0\n",
    "            data = Tensor(train_data[0][indexes[i]], True) #loads the input image\n",
    "            label = Tensor(np.array([train_data[1][indexes[i]]])) #loads its label\n",
    "            out = network.forward(data) #gets the output of the network\n",
    "            loss = nll(out, label) #calculates the loss\n",
    "            #updates loss/accuracy\n",
    "            ep_loss_train += loss.data\n",
    "            ep_acc_train += int(np.argmax(out.data) == label.data)\n",
    "            loss.backward() #propagates the gradient\n",
    "            optimizer.step() #updates the parameters\n",
    "        for i in range(dev_data[0].shape[0]): #iterates through the test set\n",
    "            data = Tensor(dev_data[0][i]) #loads the input image with no require_grad\n",
    "            label = Tensor(np.array([dev_data[1][i]])) #loads its label\n",
    "            out = network.forward(data) #gets the output of the network \n",
    "            loss = nll(out, label) #calculates the loss\n",
    "            #updates loss/accuracy\n",
    "            ep_loss_test += loss.data\n",
    "            ep_acc_test += int(np.argmax(out.data) == label.data)\n",
    "        #adds the loss/accuracy of the epoch to the lists\n",
    "        list_loss_train.append(ep_loss_train/train_data[0].shape[0])\n",
    "        list_loss_test.append(ep_loss_test/dev_data[0].shape[0])\n",
    "        list_acc_train.append(ep_acc_train/train_data[0].shape[0])\n",
    "        list_acc_test.append(ep_acc_test/dev_data[0].shape[0])\n",
    "        #prints epoch's loss/accuracy\n",
    "        print(f\"---------------------------------------- Epoch {ep} ----------------------------------------\")\n",
    "        print(f\"loss_train {round(ep_loss_train[0]/train_data[0].shape[0],3)}, acc_train {round(ep_acc_train/train_data[0].shape[0],3)}\")\n",
    "        print(f\"loss_test {round(ep_loss_test[0]/dev_data[0].shape[0],3)}, acc_test {round(ep_acc_test/dev_data[0].shape[0],3)}\")\n",
    "    return list_loss_train, list_loss_test, list_acc_train, list_acc_test\n",
    "            "
   ]
  },
  {
   "cell_type": "code",
   "execution_count": null,
   "metadata": {},
   "outputs": [],
   "source": [
    "dim_input = 28*28\n",
    "dim_output = 10\n",
    "\n",
    "n_epochs = 10\n",
    "\n",
    "momentum = False\n",
    "\n",
    "network = LinearNetwork(dim_input, dim_output)\n",
    "\n",
    "optimizer = MomentumSGD(network.parameters(), 0.001) if momentum else SGD(network.parameters(), 0.001)\n",
    "\n",
    "list_loss_train, list_loss_test, list_acc_train, list_acc_test = training_loop(network, optimizer, train_data, dev_data, n_epochs=n_epochs, momentum = momentum)"
   ]
  },
  {
   "cell_type": "code",
   "execution_count": null,
   "metadata": {},
   "outputs": [],
   "source": [
    "fig, ax = plt.subplots(1,2, figsize = (10,5))\n",
    "\n",
    "ax[0].plot(np.arange(0,n_epochs,1), list_loss_train, label = 'Train Set')\n",
    "ax[0].plot(np.arange(0,n_epochs,1), list_loss_test, label = 'Test Set')\n",
    "ax[0].set_title('Loss/Epoch')\n",
    "ax[0].legend()\n",
    "ax[1].plot(np.arange(0,n_epochs,1), list_acc_train, label = 'Train Set')\n",
    "ax[1].plot(np.arange(0,n_epochs,1), list_acc_test, label = 'Test Set')\n",
    "ax[1].set_title('Accuracy/Epoch')\n",
    "ax[1].legend()"
   ]
  },
  {
   "cell_type": "markdown",
   "metadata": {},
   "source": [
    "After you finished the linear network, you can move to a deep network!"
   ]
  },
  {
   "cell_type": "code",
   "execution_count": null,
   "metadata": {},
   "outputs": [],
   "source": [
    "class DeepNetwork(Module):\n",
    "    def __init__(self, dim_input, dim_output, hidden_dim, n_layers, tanh=False):\n",
    "        self.W = ModuleList() #stores the W parameters of each layer\n",
    "        self.b = ModuleList() #stores the b parameters of each layer\n",
    "        self.tanh = tanh\n",
    "        \n",
    "        for i in range(n_layers): #iterates through the hidden layers\n",
    "            dim_in = dim_input if i == 0 else hidden_dim #the input dimension is dim_input for the first hidden layer and hidden_dim for all the other hidden layers\n",
    "            dim_out = hidden_dim #the output dimension is always hidden_dim here\n",
    "            self.W.append(Parameter(np.ndarray((dim_out, dim_in)), name=\"W\")) #add W to the list\n",
    "            self.b.append(Parameter(np.ndarray((dim_out,)), name=\"b\")) #add b to the list\n",
    "        \n",
    "        #creates the final layer\n",
    "        self.output_proj = Parameter(np.ndarray((dim_output, hidden_dim)), name=\"W\") #W parameters of the final layer\n",
    "        self.output_bias = Parameter(np.ndarray((dim_output,)), name=\"b\") #b parameters of the final layer\n",
    "        \n",
    "        self.init_parameters()\n",
    "        \n",
    "    def init_parameters(self):\n",
    "        for i in self.W:\n",
    "            glorot_init(i.data)\n",
    "        for i in self.b:\n",
    "            zero_init(i.data)\n",
    "        glorot_init(self.output_proj.data)\n",
    "        zero_init(self.output_bias.data)\n",
    "    def forward(self, x):\n",
    "        for i in range(len(self.W)): #going forward through all the hidden layers\n",
    "            if self.tanh: #checking the activation function\n",
    "                x = tanh(affine_transform(self.W[i],self.b[i],x))\n",
    "            else:\n",
    "                x = relu(affine_transform(self.W[i],self.b[i],x))\n",
    "        return affine_transform(self.output_proj,self.output_bias,x) #forward in the last layers with no activation function\n",
    "            "
   ]
  },
  {
   "cell_type": "code",
   "execution_count": null,
   "metadata": {},
   "outputs": [],
   "source": [
    "dim_input = 28*28\n",
    "dim_output = 10\n",
    "    \n",
    "n_epochs=10\n",
    "\n",
    "momentum = False\n",
    "\n",
    "network = DeepNetwork(dim_input, dim_output, 100, 2)\n",
    "\n",
    "optimizer = MomentumSGD(network.parameters(), 0.001) if momentum else SGD(network.parameters(), 0.001)\n",
    "\n",
    "list_loss_train, list_loss_test, list_acc_train, list_acc_test = training_loop(network, optimizer, train_data, dev_data, n_epochs=n_epochs, momentum = momentum)"
   ]
  },
  {
   "cell_type": "code",
   "execution_count": null,
   "metadata": {},
   "outputs": [],
   "source": [
    "fig, ax = plt.subplots(1,2, figsize = (10,5))\n",
    "\n",
    "ax[0].plot(np.arange(0,n_epochs,1), list_loss_train, label = 'Train Set')\n",
    "ax[0].plot(np.arange(0,n_epochs,1), list_loss_test, label = 'Test Set')\n",
    "ax[0].set_title('Loss/Epoch')\n",
    "ax[0].legend()\n",
    "ax[1].plot(np.arange(0,n_epochs,1), list_acc_train, label = 'Train Set')\n",
    "ax[1].plot(np.arange(0,n_epochs,1), list_acc_test, label = 'Test Set')\n",
    "ax[1].set_title('Accuracy/Epoch')\n",
    "ax[1].legend()"
   ]
  },
  {
   "cell_type": "markdown",
   "metadata": {},
   "source": [
    "## Bonus\n",
    "\n",
    "You can try to implement a momentum SGD optimizer! Note that you have to keep track of the velocity for each parameter in the optimizer.\n"
   ]
  },
  {
   "cell_type": "code",
   "execution_count": null,
   "metadata": {},
   "outputs": [],
   "source": []
  },
  {
   "cell_type": "code",
   "execution_count": null,
   "metadata": {},
   "outputs": [],
   "source": []
  }
 ],
 "metadata": {
  "kernelspec": {
   "display_name": "Python 3 (ipykernel)",
   "language": "python",
   "name": "python3"
  },
  "language_info": {
   "codemirror_mode": {
    "name": "ipython",
    "version": 3
   },
   "file_extension": ".py",
   "mimetype": "text/x-python",
   "name": "python",
   "nbconvert_exporter": "python",
   "pygments_lexer": "ipython3",
   "version": "3.8.5"
  }
 },
 "nbformat": 4,
 "nbformat_minor": 4
}
